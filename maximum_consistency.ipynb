{
 "cells": [
  {
   "cell_type": "markdown",
   "metadata": {},
   "source": [
    "# Qualitative Constraint Network Repairs\n",
    "\n",
    "\n",
    "\n"
   ]
  },
  {
   "cell_type": "code",
   "execution_count": null,
   "metadata": {},
   "outputs": [],
   "source": [
    "import tarfile\n",
    "import os\n",
    "import urllib.request\n",
    "\n",
    "url = \"https://msioutis.gitlab.io/files/unsatdataset.tar.bz2\"\n",
    "filename = \"unsatdataset.tar.bz2\"\n",
    "extract_folder = \".temp\"\n",
    "\n",
    "os.makedirs(extract_folder, exist_ok=True)\n",
    "\n",
    "if not os.path.exists(os.path.join(extract_folder, \"unsatdataset\")):\n",
    "    urllib.request.urlretrieve(url, filename)\n",
    "    with tarfile.open(filename, \"r:bz2\") as tar:\n",
    "        tar.extractall(path=extract_folder)\n",
    "    os.remove(filename)\n",
    "\n",
    "    print(\"Dataset downloaded and extracted.\")\n",
    "print(\"Files are in the folder: \", os.path.join(extract_folder, \"unsatdataset\"))"
   ]
  },
  {
   "cell_type": "code",
   "execution_count": 9,
   "metadata": {},
   "outputs": [],
   "source": [
    "import re\n",
    "\n",
    "def aspify_allen_relations(relations):\n",
    "    rename_map = {'<': 'b', '>': 'bi', '=': 'eq'}\n",
    "    return [rename_map.get(rel, rel) for rel in relations]\n",
    "\n",
    "def parse_qcn_file(file_path):\n",
    "    graphs = [] \n",
    "    current_graph = None \n",
    "    \n",
    "    with open(file_path, 'r') as f:\n",
    "        for line in f:\n",
    "            line = line.strip()\n",
    "\n",
    "            if re.match(r'^\\d+ #', line):\n",
    "                if current_graph:\n",
    "                    graphs.append(current_graph)\n",
    "                \n",
    "                instance_id = line.split()[0]  \n",
    "                current_graph = {\"instance\": instance_id, \"edges\": []}\n",
    "            elif re.match(r'^\\d+\\s+\\d+\\s+\\(.*\\)', line):\n",
    "                parts = re.split(r'\\s+|\\(|\\)', line)\n",
    "                source = int(parts[0])\n",
    "                target = int(parts[1])\n",
    "                relations = parts[3:-1]\n",
    "                relations = aspify_allen_relations([x.lower() for x in relations if x])\n",
    "\n",
    "                current_graph[\"edges\"].append({\n",
    "                    \"from\": source,\n",
    "                    \"to\": target,\n",
    "                    \"relations\": relations\n",
    "                })\n",
    "    \n",
    "    if current_graph:\n",
    "        graphs.append(current_graph)\n",
    "    return graphs\n",
    "\n",
    "def qcn2asp(qcn):\n",
    "    asp = []\n",
    "    for edge in qcn[\"edges\"]:\n",
    "        rel = \"(\" + \";\".join(edge['relations']) + \")\"\n",
    "        asp.append(f\"constraint({edge['from']}, {edge['to']}, {rel}).\")\n",
    "    return asp\n",
    "\n"
   ]
  },
  {
   "cell_type": "code",
   "execution_count": null,
   "metadata": {},
   "outputs": [],
   "source": [
    "SATISFY = \"encoding/satisfy.lp\"\n",
    "COMPLETE = \"encoding/graph/complete.lp\"\n",
    "REPAIR = \"encoding/repair.lp\"\n",
    "CALCULI = \"encoding/calculi/rcc8.lp\"\n",
    "\n",
    "# Example usage:\n",
    "file_path = \".temp/unsatdataset/rcc8/100xincon_n30_d8_rcc8.csp\"  # Replace with the actual filename\n",
    "qcn_data = parse_qcn_file(file_path)\n",
    "\n",
    "for qcn_instance in qcn_data[0:10]:\n",
    "    instance_file_path = os.path.join(extract_folder, \"instance.lp\")\n",
    "    with open(instance_file_path, \"w\") as f:\n",
    "        f.write(\"\\n\".join(qcn2asp(qcn_instance)))\n",
    "\n",
    "    !time timeout 60 clingo 0 --parallel-mode 2,compete {instance_file_path} {COMPLETE} {REPAIR} {CALCULI} {SATISFY}"
   ]
  }
 ],
 "metadata": {
  "kernelspec": {
   "display_name": "neurasp",
   "language": "python",
   "name": "python3"
  },
  "language_info": {
   "codemirror_mode": {
    "name": "ipython",
    "version": 3
   },
   "file_extension": ".py",
   "mimetype": "text/x-python",
   "name": "python",
   "nbconvert_exporter": "python",
   "pygments_lexer": "ipython3",
   "version": "3.9.18"
  }
 },
 "nbformat": 4,
 "nbformat_minor": 2
}
